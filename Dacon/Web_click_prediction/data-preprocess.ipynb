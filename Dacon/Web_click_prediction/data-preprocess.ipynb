{
 "cells": [
  {
   "cell_type": "markdown",
   "metadata": {
    "id": "rGykrPrD44op"
   },
   "source": [
    "## Import library"
   ]
  },
  {
   "cell_type": "code",
   "execution_count": 1,
   "metadata": {
    "execution": {
     "iopub.execute_input": "2024-05-31T07:19:54.149362Z",
     "iopub.status.busy": "2024-05-31T07:19:54.148929Z",
     "iopub.status.idle": "2024-05-31T07:19:59.916498Z",
     "shell.execute_reply": "2024-05-31T07:19:59.915132Z",
     "shell.execute_reply.started": "2024-05-31T07:19:54.149320Z"
    },
    "executionInfo": {
     "elapsed": 6084,
     "status": "ok",
     "timestamp": 1717070711683,
     "user": {
      "displayName": "박정재",
      "userId": "03222287623186606113"
     },
     "user_tz": -540
    },
    "id": "CR9aLNHz44oq",
    "trusted": true
   },
   "outputs": [],
   "source": [
    "import numpy as np\n",
    "import pandas as pd\n",
    "import os, zipfile\n",
    "from tqdm.auto import notebook_tqdm\n",
    "import pyarrow.parquet as pq\n",
    "import pyarrow as pa\n",
    "from pyarrow import csv\n",
    "\n",
    "import category_encoders as ce\n",
    "import lightgbm as lgb"
   ]
  },
  {
   "cell_type": "code",
   "execution_count": 4,
   "metadata": {
    "colab": {
     "base_uri": "https://localhost:8080/",
     "height": 49,
     "referenced_widgets": [
      "6aa2c4762e75427189e36d61692ddc9f",
      "751bbc668d70470682394ff5b96acf34",
      "51817f9314b14e68aa5f188ccd44d865",
      "6bec5ab1963a4f559f3d754087f7ea7b",
      "7785a7f076e84e41a3066a66f267b7ce",
      "7c9c04d61d9140aa97557c3455a453c5",
      "7ae77e0b73c8416db70e1c876349edf4",
      "4135b44c35654a91b2088a9a5506fe92",
      "37a0bed5f48544a4aa9ad2a374c28a60",
      "5560963d098a4c5dbbb530b35fa68bed",
      "331849d0eeaf4c06a4232b62ecac12e7"
     ]
    },
    "execution": {
     "iopub.execute_input": "2024-05-30T12:30:25.988362Z",
     "iopub.status.busy": "2024-05-30T12:30:25.987362Z",
     "iopub.status.idle": "2024-05-30T12:31:03.795469Z",
     "shell.execute_reply": "2024-05-30T12:31:03.794468Z",
     "shell.execute_reply.started": "2024-05-30T12:30:25.987362Z"
    },
    "executionInfo": {
     "elapsed": 113569,
     "status": "ok",
     "timestamp": 1717067956380,
     "user": {
      "displayName": "박정재",
      "userId": "03222287623186606113"
     },
     "user_tz": -540
    },
    "id": "vwyxYRaM5OpM",
    "outputId": "b51b3910-630b-42c2-d1af-8bfa0abd378c"
   },
   "outputs": [
    {
     "data": {
      "application/vnd.jupyter.widget-view+json": {
       "model_id": "8b134c4513e4425491fa091024dc5932",
       "version_major": 2,
       "version_minor": 0
      },
      "text/plain": [
       "Extracting:   0%|          | 0/3 [00:00<?, ?files/s]"
      ]
     },
     "metadata": {},
     "output_type": "display_data"
    }
   ],
   "source": [
    "def dataset_extract(file_name) :\n",
    "    with zipfile.ZipFile(file_name, 'r') as zip_ref :\n",
    "        file_list = zip_ref.namelist()\n",
    "        if os.path.exists(f'{file_name[-8:-4]}/') :\n",
    "            print(f'데이터셋 폴더가 이미 존재합니다.')\n",
    "            return\n",
    "\n",
    "        else :\n",
    "            for f in notebook_tqdm(file_list, desc='Extracting', unit='files') :\n",
    "                zip_ref.extract(member=f, path='data/')\n",
    "\n",
    "dataset_extract('open.zip')"
   ]
  },
  {
   "cell_type": "markdown",
   "metadata": {
    "id": "iM8BFU9aPi2j"
   },
   "source": [
    "## CSV to Parquet"
   ]
  },
  {
   "cell_type": "code",
   "execution_count": 10,
   "metadata": {
    "execution": {
     "iopub.execute_input": "2024-05-31T05:15:06.918118Z",
     "iopub.status.busy": "2024-05-31T05:15:06.917722Z",
     "iopub.status.idle": "2024-05-31T05:15:06.928973Z",
     "shell.execute_reply": "2024-05-31T05:15:06.927994Z",
     "shell.execute_reply.started": "2024-05-31T05:15:06.918086Z"
    },
    "executionInfo": {
     "elapsed": 293,
     "status": "ok",
     "timestamp": 1717070730904,
     "user": {
      "displayName": "박정재",
      "userId": "03222287623186606113"
     },
     "user_tz": -540
    },
    "id": "JH84w8cSOeuy",
    "trusted": true
   },
   "outputs": [],
   "source": [
    "def csv_to_parquet(csv_file_path, parquet_file_path, chunksize=50000, compression='snappy'):\n",
    "    parquet_writer = None\n",
    "\n",
    "    for chunk in notebook_tqdm(pd.read_csv(csv_file_path, chunksize=chunksize)):\n",
    "        # 청크를 Parquet 테이블로 변환\n",
    "        table = pa.Table.from_pandas(chunk)\n",
    "\n",
    "        # 첫 번째 청크에서 ParquetWriter를 초기화\n",
    "        if parquet_writer is None:\n",
    "            parquet_writer = pq.ParquetWriter(parquet_file_path, table.schema, compression=compression)\n",
    "\n",
    "        # 현재 청크를 Parquet 파일에 씁니다.\n",
    "        parquet_writer.write_table(table)\n",
    "\n",
    "    # ParquetWriter를 닫습니다.\n",
    "    if parquet_writer is not None:\n",
    "        parquet_writer.close()\n",
    "\n",
    "\n",
    "def read_parquet_in_chunks(parquet_file_path, chunksize=500000):\n",
    "    # Parquet 파일의 메타데이터를 읽어옵니다.\n",
    "    parquet_file = pq.ParquetFile(parquet_file_path)\n",
    "\n",
    "    # 총 로우 수를 가져옵니다.\n",
    "    total_rows = parquet_file.metadata.num_rows\n",
    "\n",
    "    # 청크 단위로 데이터를 읽어올 때마다 저장할 리스트\n",
    "    df_list = []\n",
    "\n",
    "    # 청크 단위로 데이터를 읽어옵니다.\n",
    "    for start_row in notebook_tqdm(range(0, total_rows, chunksize)):\n",
    "        # 현재 청크의 끝 로우를 계산합니다.\n",
    "        end_row = min(start_row + chunksize, total_rows)\n",
    "\n",
    "        # 현재 청크를 읽어옵니다.\n",
    "        table = parquet_file.read_row_group(start_row // chunksize)\n",
    "        df_chunk = table.to_pandas()\n",
    "\n",
    "        # 읽어온 청크를 리스트에 추가합니다.\n",
    "        df_list.append(df_chunk)\n",
    "\n",
    "    # 모든 청크를 결합하여 하나의 데이터프레임으로 만듭니다.\n",
    "    df = pd.concat(df_list, ignore_index=True)\n",
    "    return df"
   ]
  },
  {
   "cell_type": "markdown",
   "metadata": {
    "id": "23xV9G_r44or"
   },
   "source": [
    "### Load data"
   ]
  },
  {
   "cell_type": "code",
   "execution_count": 15,
   "metadata": {
    "execution": {
     "iopub.execute_input": "2024-05-31T05:20:43.364897Z",
     "iopub.status.busy": "2024-05-31T05:20:43.364076Z",
     "iopub.status.idle": "2024-05-31T05:22:34.505378Z",
     "shell.execute_reply": "2024-05-31T05:22:34.503161Z",
     "shell.execute_reply.started": "2024-05-31T05:20:43.364867Z"
    },
    "trusted": true
   },
   "outputs": [],
   "source": [
    "csv_file_path = '/kaggle/input/train.csv'\n",
    "parquet_file_path = '/kaggle/working/train.parquet'\n",
    "pq.write_table(csv.read_csv(csv_file_path), parquet_file_path)"
   ]
  },
  {
   "cell_type": "code",
   "execution_count": 2,
   "metadata": {
    "execution": {
     "iopub.execute_input": "2024-05-31T05:35:29.359344Z",
     "iopub.status.busy": "2024-05-31T05:35:29.358472Z",
     "iopub.status.idle": "2024-05-31T05:35:46.817667Z",
     "shell.execute_reply": "2024-05-31T05:35:46.816824Z",
     "shell.execute_reply.started": "2024-05-31T05:35:29.359311Z"
    },
    "trusted": true
   },
   "outputs": [],
   "source": [
    "csv_file_path = '/kaggle/input/test.csv'\n",
    "parquet_file_path = '/kaggle/working/test.parquet'\n",
    "pq.write_table(csv.read_csv(csv_file_path), parquet_file_path)"
   ]
  },
  {
   "cell_type": "code",
   "execution_count": 2,
   "metadata": {
    "execution": {
     "iopub.execute_input": "2024-05-31T07:20:00.656663Z",
     "iopub.status.busy": "2024-05-31T07:20:00.655960Z",
     "iopub.status.idle": "2024-05-31T07:21:06.560957Z",
     "shell.execute_reply": "2024-05-31T07:21:06.559957Z",
     "shell.execute_reply.started": "2024-05-31T07:20:00.656618Z"
    },
    "trusted": true
   },
   "outputs": [
    {
     "data": {
      "text/plain": [
       "(28605391, 41)"
      ]
     },
     "execution_count": 2,
     "metadata": {},
     "output_type": "execute_result"
    }
   ],
   "source": [
    "parquet_file_path = '/kaggle/working/train.parquet'\n",
    "train = pd.read_parquet(parquet_file_path, engine = 'pyarrow')\n",
    "train.shape"
   ]
  },
  {
   "cell_type": "code",
   "execution_count": 3,
   "metadata": {
    "execution": {
     "iopub.execute_input": "2024-05-31T06:40:40.111966Z",
     "iopub.status.busy": "2024-05-31T06:40:40.111547Z",
     "iopub.status.idle": "2024-05-31T06:40:51.350161Z",
     "shell.execute_reply": "2024-05-31T06:40:51.349127Z",
     "shell.execute_reply.started": "2024-05-31T06:40:40.111932Z"
    },
    "trusted": true
   },
   "outputs": [
    {
     "data": {
      "text/plain": [
       "(4538541, 40)"
      ]
     },
     "execution_count": 3,
     "metadata": {},
     "output_type": "execute_result"
    }
   ],
   "source": [
    "parquet_file_path = '/kaggle/working/test.parquet'\n",
    "test = pd.read_parquet(parquet_file_path, engine = 'pyarrow')\n",
    "test.shape"
   ]
  },
  {
   "cell_type": "markdown",
   "metadata": {},
   "source": [
    "### Reduce Memory & Save"
   ]
  },
  {
   "cell_type": "code",
   "execution_count": 3,
   "metadata": {
    "execution": {
     "iopub.execute_input": "2024-05-31T07:21:06.563675Z",
     "iopub.status.busy": "2024-05-31T07:21:06.563242Z",
     "iopub.status.idle": "2024-05-31T07:21:06.576879Z",
     "shell.execute_reply": "2024-05-31T07:21:06.575773Z",
     "shell.execute_reply.started": "2024-05-31T07:21:06.563616Z"
    },
    "trusted": true
   },
   "outputs": [],
   "source": [
    "def reduce_memory_usage(df):\n",
    "    \n",
    "    start_mem = df.memory_usage().sum() / 1024**2\n",
    "    print('Memory usage of dataframe is {:.2f} MB'.format(start_mem))\n",
    "    \n",
    "    for col in notebook_tqdm(df.columns):\n",
    "        col_type = df[col].dtype.name\n",
    "        if ((col_type != 'datetime64[ns]') & (col_type != 'category')):\n",
    "            if (col_type != 'object'):\n",
    "                c_min = df[col].min()\n",
    "                c_max = df[col].max()\n",
    "\n",
    "                if str(col_type)[:3] == 'int':\n",
    "                    if c_min > np.iinfo(np.int8).min and c_max < np.iinfo(np.int8).max:\n",
    "                        df[col] = df[col].astype(np.int8)\n",
    "                    elif c_min > np.iinfo(np.int16).min and c_max < np.iinfo(np.int16).max:\n",
    "                        df[col] = df[col].astype(np.int16)\n",
    "                    elif c_min > np.iinfo(np.int32).min and c_max < np.iinfo(np.int32).max:\n",
    "                        df[col] = df[col].astype(np.int32)\n",
    "                    elif c_min > np.iinfo(np.int64).min and c_max < np.iinfo(np.int64).max:\n",
    "                        df[col] = df[col].astype(np.int64)\n",
    "\n",
    "                else:\n",
    "                    if c_min > np.finfo(np.float16).min and c_max < np.finfo(np.float16).max:\n",
    "                        df[col] = df[col].astype(np.float16)\n",
    "                    elif c_min > np.finfo(np.float32).min and c_max < np.finfo(np.float32).max:\n",
    "                        df[col] = df[col].astype(np.float32)\n",
    "                    else:\n",
    "                        pass\n",
    "            else:\n",
    "                df[col] = df[col].astype('category')\n",
    "    mem_usg = df.memory_usage().sum() / 1024**2 \n",
    "    print(\"Memory usage became: \",mem_usg,\" MB\")\n",
    "    \n",
    "    return df"
   ]
  },
  {
   "cell_type": "code",
   "execution_count": 4,
   "metadata": {
    "execution": {
     "iopub.execute_input": "2024-05-31T07:21:06.578295Z",
     "iopub.status.busy": "2024-05-31T07:21:06.577969Z",
     "iopub.status.idle": "2024-05-31T07:21:20.690364Z",
     "shell.execute_reply": "2024-05-31T07:21:20.689469Z",
     "shell.execute_reply.started": "2024-05-31T07:21:06.578263Z"
    },
    "trusted": true
   },
   "outputs": [],
   "source": [
    "train.drop('ID', axis=1,  inplace=True)"
   ]
  },
  {
   "cell_type": "code",
   "execution_count": 5,
   "metadata": {
    "execution": {
     "iopub.execute_input": "2024-05-31T07:21:20.692449Z",
     "iopub.status.busy": "2024-05-31T07:21:20.692140Z",
     "iopub.status.idle": "2024-05-31T07:24:11.505563Z",
     "shell.execute_reply": "2024-05-31T07:24:11.504481Z",
     "shell.execute_reply.started": "2024-05-31T07:21:20.692422Z"
    },
    "trusted": true
   },
   "outputs": [
    {
     "name": "stdout",
     "output_type": "stream",
     "text": [
      "Memory usage of dataframe is 8729.67 MB\n"
     ]
    },
    {
     "data": {
      "application/vnd.jupyter.widget-view+json": {
       "model_id": "aa3ab56cbd54458784363da5e85e514d",
       "version_major": 2,
       "version_minor": 0
      },
      "text/plain": [
       "  0%|          | 0/40 [00:00<?, ?it/s]"
      ]
     },
     "metadata": {},
     "output_type": "display_data"
    },
    {
     "name": "stdout",
     "output_type": "stream",
     "text": [
      "Memory usage became:  3244.068123817444  MB\n"
     ]
    }
   ],
   "source": [
    "train = reduce_memory_usage(train)"
   ]
  },
  {
   "cell_type": "code",
   "execution_count": null,
   "metadata": {},
   "outputs": [],
   "source": [
    "test.drop('ID', axis=1, inplace=True)"
   ]
  },
  {
   "cell_type": "code",
   "execution_count": 7,
   "metadata": {
    "execution": {
     "iopub.execute_input": "2024-05-31T06:44:04.571541Z",
     "iopub.status.busy": "2024-05-31T06:44:04.571129Z",
     "iopub.status.idle": "2024-05-31T06:44:30.080408Z",
     "shell.execute_reply": "2024-05-31T06:44:30.079483Z",
     "shell.execute_reply.started": "2024-05-31T06:44:04.571505Z"
    },
    "trusted": true
   },
   "outputs": [
    {
     "name": "stdout",
     "output_type": "stream",
     "text": [
      "Memory usage of dataframe is 1350.43 MB\n"
     ]
    },
    {
     "data": {
      "application/vnd.jupyter.widget-view+json": {
       "model_id": "3a05b282653346f3b19576c71ea975f2",
       "version_major": 2,
       "version_minor": 0
      },
      "text/plain": [
       "  0%|          | 0/39 [00:00<?, ?it/s]"
      ]
     },
     "metadata": {},
     "output_type": "display_data"
    },
    {
     "name": "stdout",
     "output_type": "stream",
     "text": [
      "Memory usage became:  562.7004432678223  MB\n"
     ]
    }
   ],
   "source": [
    "test = reduce_memory_usage(test)"
   ]
  },
  {
   "cell_type": "code",
   "execution_count": 9,
   "metadata": {
    "execution": {
     "iopub.execute_input": "2024-05-31T06:29:02.386056Z",
     "iopub.status.busy": "2024-05-31T06:29:02.385746Z",
     "iopub.status.idle": "2024-05-31T06:29:02.392521Z",
     "shell.execute_reply": "2024-05-31T06:29:02.391510Z",
     "shell.execute_reply.started": "2024-05-31T06:29:02.386030Z"
    },
    "trusted": true
   },
   "outputs": [
    {
     "data": {
      "text/plain": [
       "((28605391, 40), (4538541, 39))"
      ]
     },
     "execution_count": 9,
     "metadata": {},
     "output_type": "execute_result"
    }
   ],
   "source": [
    "train.shape, test.shape"
   ]
  },
  {
   "cell_type": "markdown",
   "metadata": {},
   "source": [
    "## Data preprocessing"
   ]
  },
  {
   "cell_type": "code",
   "execution_count": 7,
   "metadata": {
    "execution": {
     "iopub.execute_input": "2024-05-31T07:26:48.568868Z",
     "iopub.status.busy": "2024-05-31T07:26:48.568181Z",
     "iopub.status.idle": "2024-05-31T07:26:51.169383Z",
     "shell.execute_reply": "2024-05-31T07:26:51.168530Z",
     "shell.execute_reply.started": "2024-05-31T07:26:48.568830Z"
    },
    "trusted": true
   },
   "outputs": [],
   "source": [
    "X_train = train.drop('Click', axis=1)\n",
    "y_train = train['Click']"
   ]
  },
  {
   "cell_type": "code",
   "execution_count": 8,
   "metadata": {
    "execution": {
     "iopub.execute_input": "2024-05-31T07:26:59.906255Z",
     "iopub.status.busy": "2024-05-31T07:26:59.905353Z",
     "iopub.status.idle": "2024-05-31T07:27:03.959124Z",
     "shell.execute_reply": "2024-05-31T07:27:03.958106Z",
     "shell.execute_reply.started": "2024-05-31T07:26:59.906223Z"
    },
    "trusted": true
   },
   "outputs": [
    {
     "data": {
      "application/vnd.jupyter.widget-view+json": {
       "model_id": "c111fb3fd9ce427fa95163883021cf27",
       "version_major": 2,
       "version_minor": 0
      },
      "text/plain": [
       "  0%|          | 0/39 [00:00<?, ?it/s]"
      ]
     },
     "metadata": {},
     "output_type": "display_data"
    },
    {
     "name": "stderr",
     "output_type": "stream",
     "text": [
      "/tmp/ipykernel_1403/3703488451.py:3: FutureWarning: A value is trying to be set on a copy of a DataFrame or Series through chained assignment using an inplace method.\n",
      "The behavior will change in pandas 3.0. This inplace method will never work because the intermediate object on which we are setting values always behaves as a copy.\n",
      "\n",
      "For example, when doing 'df[col].method(value, inplace=True)', try using 'df.method({col: value}, inplace=True)' or df[col] = df[col].method(value) instead, to perform the operation inplace on the original object.\n",
      "\n",
      "\n",
      "  X_train[col].fillna(0, inplace=True)\n"
     ]
    }
   ],
   "source": [
    "for col in notebook_tqdm(X_train.columns):\n",
    "    if X_train[col].isnull().sum() != 0:\n",
    "        X_train[col].fillna(0, inplace=True)"
   ]
  },
  {
   "cell_type": "code",
   "execution_count": null,
   "metadata": {
    "execution": {
     "iopub.execute_input": "2024-05-31T07:27:11.317283Z",
     "iopub.status.busy": "2024-05-31T07:27:11.316885Z",
     "iopub.status.idle": "2024-05-31T07:31:11.116690Z",
     "shell.execute_reply": "2024-05-31T07:31:11.114990Z",
     "shell.execute_reply.started": "2024-05-31T07:27:11.317241Z"
    },
    "trusted": true
   },
   "outputs": [],
   "source": [
    "encoding_target = list(X_train.dtypes[X_train.dtypes == \"category\"].index)\n",
    "\n",
    "enc = ce.TargetEncoder(cols=encoding_target)\n",
    "X_train_encoded = enc.fit_transform(X_train, y_train)"
   ]
  },
  {
   "cell_type": "code",
   "execution_count": null,
   "metadata": {},
   "outputs": [],
   "source": [
    "test_encoded = enc.transform(test)"
   ]
  },
  {
   "cell_type": "code",
   "execution_count": 9,
   "metadata": {
    "execution": {
     "iopub.execute_input": "2024-05-31T00:33:57.291586Z",
     "iopub.status.busy": "2024-05-31T00:33:57.291199Z",
     "iopub.status.idle": "2024-05-31T00:33:57.320011Z",
     "shell.execute_reply": "2024-05-31T00:33:57.318922Z",
     "shell.execute_reply.started": "2024-05-31T00:33:57.291556Z"
    },
    "trusted": true
   },
   "outputs": [
    {
     "data": {
      "text/html": [
       "<div>\n",
       "<style scoped>\n",
       "    .dataframe tbody tr th:only-of-type {\n",
       "        vertical-align: middle;\n",
       "    }\n",
       "\n",
       "    .dataframe tbody tr th {\n",
       "        vertical-align: top;\n",
       "    }\n",
       "\n",
       "    .dataframe thead th {\n",
       "        text-align: right;\n",
       "    }\n",
       "</style>\n",
       "<table border=\"1\" class=\"dataframe\">\n",
       "  <thead>\n",
       "    <tr style=\"text-align: right;\">\n",
       "      <th></th>\n",
       "      <th>F01</th>\n",
       "      <th>F02</th>\n",
       "      <th>F03</th>\n",
       "      <th>F04</th>\n",
       "      <th>F05</th>\n",
       "      <th>F06</th>\n",
       "      <th>F07</th>\n",
       "      <th>F08</th>\n",
       "      <th>F09</th>\n",
       "      <th>F10</th>\n",
       "      <th>...</th>\n",
       "      <th>F30</th>\n",
       "      <th>F31</th>\n",
       "      <th>F32</th>\n",
       "      <th>F33</th>\n",
       "      <th>F34</th>\n",
       "      <th>F35</th>\n",
       "      <th>F36</th>\n",
       "      <th>F37</th>\n",
       "      <th>F38</th>\n",
       "      <th>F39</th>\n",
       "    </tr>\n",
       "  </thead>\n",
       "  <tbody>\n",
       "    <tr>\n",
       "      <th>0</th>\n",
       "      <td>1</td>\n",
       "      <td>31</td>\n",
       "      <td>1103694</td>\n",
       "      <td>114.0</td>\n",
       "      <td>1</td>\n",
       "      <td>1</td>\n",
       "      <td>2662246</td>\n",
       "      <td>3422221</td>\n",
       "      <td>49115</td>\n",
       "      <td>3</td>\n",
       "      <td>...</td>\n",
       "      <td>2961319</td>\n",
       "      <td>7791058</td>\n",
       "      <td>380.0</td>\n",
       "      <td>2.0</td>\n",
       "      <td>1</td>\n",
       "      <td>12647707</td>\n",
       "      <td>0.0</td>\n",
       "      <td>479960</td>\n",
       "      <td>0.0</td>\n",
       "      <td>1238</td>\n",
       "    </tr>\n",
       "    <tr>\n",
       "      <th>1</th>\n",
       "      <td>706</td>\n",
       "      <td>3565</td>\n",
       "      <td>276062</td>\n",
       "      <td>26.0</td>\n",
       "      <td>706</td>\n",
       "      <td>43</td>\n",
       "      <td>3519</td>\n",
       "      <td>941357</td>\n",
       "      <td>105154</td>\n",
       "      <td>728</td>\n",
       "      <td>...</td>\n",
       "      <td>2961319</td>\n",
       "      <td>7791058</td>\n",
       "      <td>466.0</td>\n",
       "      <td>1.0</td>\n",
       "      <td>706</td>\n",
       "      <td>12647707</td>\n",
       "      <td>19.0</td>\n",
       "      <td>253713</td>\n",
       "      <td>0.0</td>\n",
       "      <td>14265</td>\n",
       "    </tr>\n",
       "    <tr>\n",
       "      <th>2</th>\n",
       "      <td>3036378</td>\n",
       "      <td>3044559</td>\n",
       "      <td>5788795</td>\n",
       "      <td>119.0</td>\n",
       "      <td>3036378</td>\n",
       "      <td>0</td>\n",
       "      <td>3069</td>\n",
       "      <td>672410</td>\n",
       "      <td>571012</td>\n",
       "      <td>3036378</td>\n",
       "      <td>...</td>\n",
       "      <td>82144</td>\n",
       "      <td>3036340</td>\n",
       "      <td>197.0</td>\n",
       "      <td>0.0</td>\n",
       "      <td>3036378</td>\n",
       "      <td>12647707</td>\n",
       "      <td>8.0</td>\n",
       "      <td>571012</td>\n",
       "      <td>0.0</td>\n",
       "      <td>23671</td>\n",
       "    </tr>\n",
       "    <tr>\n",
       "      <th>3</th>\n",
       "      <td>7249</td>\n",
       "      <td>85535</td>\n",
       "      <td>5218517</td>\n",
       "      <td>15.0</td>\n",
       "      <td>7249</td>\n",
       "      <td>26</td>\n",
       "      <td>102</td>\n",
       "      <td>244137</td>\n",
       "      <td>1719</td>\n",
       "      <td>40046</td>\n",
       "      <td>...</td>\n",
       "      <td>72869</td>\n",
       "      <td>7791058</td>\n",
       "      <td>8640.0</td>\n",
       "      <td>0.0</td>\n",
       "      <td>12018</td>\n",
       "      <td>12647707</td>\n",
       "      <td>14.0</td>\n",
       "      <td>27692</td>\n",
       "      <td>0.0</td>\n",
       "      <td>2304</td>\n",
       "    </tr>\n",
       "    <tr>\n",
       "      <th>4</th>\n",
       "      <td>5</td>\n",
       "      <td>18246</td>\n",
       "      <td>5218517</td>\n",
       "      <td>13.0</td>\n",
       "      <td>5</td>\n",
       "      <td>20</td>\n",
       "      <td>2662246</td>\n",
       "      <td>941357</td>\n",
       "      <td>3119</td>\n",
       "      <td>898</td>\n",
       "      <td>...</td>\n",
       "      <td>2961319</td>\n",
       "      <td>435789</td>\n",
       "      <td>41774.0</td>\n",
       "      <td>0.0</td>\n",
       "      <td>860</td>\n",
       "      <td>12647707</td>\n",
       "      <td>13.0</td>\n",
       "      <td>15545</td>\n",
       "      <td>0.0</td>\n",
       "      <td>3905</td>\n",
       "    </tr>\n",
       "  </tbody>\n",
       "</table>\n",
       "<p>5 rows × 39 columns</p>\n",
       "</div>"
      ],
      "text/plain": [
       "       F01      F02      F03    F04      F05  F06      F07      F08     F09  \\\n",
       "0        1       31  1103694  114.0        1    1  2662246  3422221   49115   \n",
       "1      706     3565   276062   26.0      706   43     3519   941357  105154   \n",
       "2  3036378  3044559  5788795  119.0  3036378    0     3069   672410  571012   \n",
       "3     7249    85535  5218517   15.0     7249   26      102   244137    1719   \n",
       "4        5    18246  5218517   13.0        5   20  2662246   941357    3119   \n",
       "\n",
       "       F10  ...      F30      F31      F32  F33      F34       F35   F36  \\\n",
       "0        3  ...  2961319  7791058    380.0  2.0        1  12647707   0.0   \n",
       "1      728  ...  2961319  7791058    466.0  1.0      706  12647707  19.0   \n",
       "2  3036378  ...    82144  3036340    197.0  0.0  3036378  12647707   8.0   \n",
       "3    40046  ...    72869  7791058   8640.0  0.0    12018  12647707  14.0   \n",
       "4      898  ...  2961319   435789  41774.0  0.0      860  12647707  13.0   \n",
       "\n",
       "      F37  F38    F39  \n",
       "0  479960  0.0   1238  \n",
       "1  253713  0.0  14265  \n",
       "2  571012  0.0  23671  \n",
       "3   27692  0.0   2304  \n",
       "4   15545  0.0   3905  \n",
       "\n",
       "[5 rows x 39 columns]"
      ]
     },
     "execution_count": 9,
     "metadata": {},
     "output_type": "execute_result"
    }
   ],
   "source": [
    "X_train_encoded.shape, y_train.shape"
   ]
  },
  {
   "cell_type": "code",
   "execution_count": 16,
   "metadata": {
    "execution": {
     "iopub.execute_input": "2024-05-31T00:52:18.964412Z",
     "iopub.status.busy": "2024-05-31T00:52:18.963699Z",
     "iopub.status.idle": "2024-05-31T00:52:19.310947Z",
     "shell.execute_reply": "2024-05-31T00:52:19.309991Z",
     "shell.execute_reply.started": "2024-05-31T00:52:18.964375Z"
    },
    "trusted": true
   },
   "outputs": [],
   "source": [
    "X_train_encoded.to_parquet('/kaggle/working/X_train.parquet', engine = 'pyarrow', index = False)\n",
    "y_train.to_frame().to_parquet('/kaggle/working/y_train.parquet', engine = 'pyarrow', index = False)"
   ]
  },
  {
   "cell_type": "markdown",
   "metadata": {
    "id": "jsUXcILC44os"
   },
   "source": [
    "## Load test data & Preprocess"
   ]
  },
  {
   "cell_type": "code",
   "execution_count": 20,
   "metadata": {
    "execution": {
     "iopub.execute_input": "2024-05-31T01:40:24.565857Z",
     "iopub.status.busy": "2024-05-31T01:40:24.564945Z",
     "iopub.status.idle": "2024-05-31T01:41:58.858175Z",
     "shell.execute_reply": "2024-05-31T01:41:58.857078Z",
     "shell.execute_reply.started": "2024-05-31T01:40:24.565821Z"
    },
    "id": "qcEuZ5Go44os",
    "trusted": true
   },
   "outputs": [
    {
     "data": {
      "application/vnd.jupyter.widget-view+json": {
       "model_id": "7d761d4bf2484ccabb40d73110a5d609",
       "version_major": 2,
       "version_minor": 0
      },
      "text/plain": [
       "  0%|          | 0/39 [00:00<?, ?it/s]"
      ]
     },
     "metadata": {},
     "output_type": "display_data"
    }
   ],
   "source": [
    "# test = pd.read_csv('/kaggle/input/dacon-web-click-data/open/test.csv')\n",
    "# test_x = test.drop(columns=['ID'])\n",
    "for col in notebook_tqdm(train_x.columns):\n",
    "    if train_x[col].isnull().sum() != 0:\n",
    "        test_x[col].fillna(0, inplace=True)\n"
   ]
  },
  {
   "cell_type": "code",
   "execution_count": 21,
   "metadata": {
    "execution": {
     "iopub.execute_input": "2024-05-31T01:42:13.278049Z",
     "iopub.status.busy": "2024-05-31T01:42:13.277350Z",
     "iopub.status.idle": "2024-05-31T01:42:15.062466Z",
     "shell.execute_reply": "2024-05-31T01:42:15.061527Z",
     "shell.execute_reply.started": "2024-05-31T01:42:13.278016Z"
    },
    "trusted": true
   },
   "outputs": [
    {
     "name": "stdout",
     "output_type": "stream",
     "text": [
      "Memory usage of dataframe is 1350.43 MB\n"
     ]
    },
    {
     "data": {
      "application/vnd.jupyter.widget-view+json": {
       "model_id": "9c6562d54c714f598ae8ba2093dea0d6",
       "version_major": 2,
       "version_minor": 0
      },
      "text/plain": [
       "  0%|          | 0/39 [00:00<?, ?it/s]"
      ]
     },
     "metadata": {},
     "output_type": "display_data"
    },
    {
     "name": "stdout",
     "output_type": "stream",
     "text": [
      "Memory usage became:  588.6475601196289  MB\n"
     ]
    }
   ],
   "source": [
    "X_test_encoded = reduce_memory_usage(X_test_encoded)"
   ]
  },
  {
   "cell_type": "code",
   "execution_count": 22,
   "metadata": {
    "execution": {
     "iopub.execute_input": "2024-05-31T01:42:41.080144Z",
     "iopub.status.busy": "2024-05-31T01:42:41.079709Z",
     "iopub.status.idle": "2024-05-31T01:42:47.249436Z",
     "shell.execute_reply": "2024-05-31T01:42:47.248624Z",
     "shell.execute_reply.started": "2024-05-31T01:42:41.080093Z"
    },
    "trusted": true
   },
   "outputs": [],
   "source": [
    "X_test_encoded.to_parquet('/kaggle/working/X_test.parquet', engine = 'pyarrow', index = False)"
   ]
  }
 ],
 "metadata": {
  "accelerator": "GPU",
  "colab": {
   "gpuType": "T4",
   "provenance": []
  },
  "kaggle": {
   "accelerator": "gpu",
   "dataSources": [
    {
     "datasetId": 5116132,
     "sourceId": 8566540,
     "sourceType": "datasetVersion"
    }
   ],
   "dockerImageVersionId": 30699,
   "isGpuEnabled": true,
   "isInternetEnabled": true,
   "language": "python",
   "sourceType": "notebook"
  },
  "kernelspec": {
   "display_name": "Python 3",
   "language": "python",
   "name": "python3"
  },
  "language_info": {
   "codemirror_mode": {
    "name": "ipython",
    "version": 3
   },
   "file_extension": ".py",
   "mimetype": "text/x-python",
   "name": "python",
   "nbconvert_exporter": "python",
   "pygments_lexer": "ipython3",
   "version": "3.10.13"
  },
  "widgets": {
   "application/vnd.jupyter.widget-state+json": {
    "2f0e06e915404ec2a7e6e6dac5d65d42": {
     "model_module": "@jupyter-widgets/controls",
     "model_module_version": "1.5.0",
     "model_name": "FloatProgressModel",
     "state": {
      "_dom_classes": [],
      "_model_module": "@jupyter-widgets/controls",
      "_model_module_version": "1.5.0",
      "_model_name": "FloatProgressModel",
      "_view_count": null,
      "_view_module": "@jupyter-widgets/controls",
      "_view_module_version": "1.5.0",
      "_view_name": "ProgressView",
      "bar_style": "success",
      "description": "",
      "description_tooltip": null,
      "layout": "IPY_MODEL_e45e3bc207794fffb028bce81273dab8",
      "max": 1,
      "min": 0,
      "orientation": "horizontal",
      "style": "IPY_MODEL_6e39db8f5f4d4a29b7c492310d367094",
      "value": 1
     }
    },
    "314c4f094334474999f6988f47475b62": {
     "model_module": "@jupyter-widgets/base",
     "model_module_version": "1.2.0",
     "model_name": "LayoutModel",
     "state": {
      "_model_module": "@jupyter-widgets/base",
      "_model_module_version": "1.2.0",
      "_model_name": "LayoutModel",
      "_view_count": null,
      "_view_module": "@jupyter-widgets/base",
      "_view_module_version": "1.2.0",
      "_view_name": "LayoutView",
      "align_content": null,
      "align_items": null,
      "align_self": null,
      "border": null,
      "bottom": null,
      "display": null,
      "flex": null,
      "flex_flow": null,
      "grid_area": null,
      "grid_auto_columns": null,
      "grid_auto_flow": null,
      "grid_auto_rows": null,
      "grid_column": null,
      "grid_gap": null,
      "grid_row": null,
      "grid_template_areas": null,
      "grid_template_columns": null,
      "grid_template_rows": null,
      "height": null,
      "justify_content": null,
      "justify_items": null,
      "left": null,
      "margin": null,
      "max_height": null,
      "max_width": null,
      "min_height": null,
      "min_width": null,
      "object_fit": null,
      "object_position": null,
      "order": null,
      "overflow": null,
      "overflow_x": null,
      "overflow_y": null,
      "padding": null,
      "right": null,
      "top": null,
      "visibility": null,
      "width": null
     }
    },
    "331849d0eeaf4c06a4232b62ecac12e7": {
     "model_module": "@jupyter-widgets/controls",
     "model_module_version": "1.5.0",
     "model_name": "DescriptionStyleModel",
     "state": {
      "_model_module": "@jupyter-widgets/controls",
      "_model_module_version": "1.5.0",
      "_model_name": "DescriptionStyleModel",
      "_view_count": null,
      "_view_module": "@jupyter-widgets/base",
      "_view_module_version": "1.2.0",
      "_view_name": "StyleView",
      "description_width": ""
     }
    },
    "37a0bed5f48544a4aa9ad2a374c28a60": {
     "model_module": "@jupyter-widgets/controls",
     "model_module_version": "1.5.0",
     "model_name": "ProgressStyleModel",
     "state": {
      "_model_module": "@jupyter-widgets/controls",
      "_model_module_version": "1.5.0",
      "_model_name": "ProgressStyleModel",
      "_view_count": null,
      "_view_module": "@jupyter-widgets/base",
      "_view_module_version": "1.2.0",
      "_view_name": "StyleView",
      "bar_color": null,
      "description_width": ""
     }
    },
    "4135b44c35654a91b2088a9a5506fe92": {
     "model_module": "@jupyter-widgets/base",
     "model_module_version": "1.2.0",
     "model_name": "LayoutModel",
     "state": {
      "_model_module": "@jupyter-widgets/base",
      "_model_module_version": "1.2.0",
      "_model_name": "LayoutModel",
      "_view_count": null,
      "_view_module": "@jupyter-widgets/base",
      "_view_module_version": "1.2.0",
      "_view_name": "LayoutView",
      "align_content": null,
      "align_items": null,
      "align_self": null,
      "border": null,
      "bottom": null,
      "display": null,
      "flex": null,
      "flex_flow": null,
      "grid_area": null,
      "grid_auto_columns": null,
      "grid_auto_flow": null,
      "grid_auto_rows": null,
      "grid_column": null,
      "grid_gap": null,
      "grid_row": null,
      "grid_template_areas": null,
      "grid_template_columns": null,
      "grid_template_rows": null,
      "height": null,
      "justify_content": null,
      "justify_items": null,
      "left": null,
      "margin": null,
      "max_height": null,
      "max_width": null,
      "min_height": null,
      "min_width": null,
      "object_fit": null,
      "object_position": null,
      "order": null,
      "overflow": null,
      "overflow_x": null,
      "overflow_y": null,
      "padding": null,
      "right": null,
      "top": null,
      "visibility": null,
      "width": null
     }
    },
    "51817f9314b14e68aa5f188ccd44d865": {
     "model_module": "@jupyter-widgets/controls",
     "model_module_version": "1.5.0",
     "model_name": "FloatProgressModel",
     "state": {
      "_dom_classes": [],
      "_model_module": "@jupyter-widgets/controls",
      "_model_module_version": "1.5.0",
      "_model_name": "FloatProgressModel",
      "_view_count": null,
      "_view_module": "@jupyter-widgets/controls",
      "_view_module_version": "1.5.0",
      "_view_name": "ProgressView",
      "bar_style": "success",
      "description": "",
      "description_tooltip": null,
      "layout": "IPY_MODEL_4135b44c35654a91b2088a9a5506fe92",
      "max": 3,
      "min": 0,
      "orientation": "horizontal",
      "style": "IPY_MODEL_37a0bed5f48544a4aa9ad2a374c28a60",
      "value": 3
     }
    },
    "5560963d098a4c5dbbb530b35fa68bed": {
     "model_module": "@jupyter-widgets/base",
     "model_module_version": "1.2.0",
     "model_name": "LayoutModel",
     "state": {
      "_model_module": "@jupyter-widgets/base",
      "_model_module_version": "1.2.0",
      "_model_name": "LayoutModel",
      "_view_count": null,
      "_view_module": "@jupyter-widgets/base",
      "_view_module_version": "1.2.0",
      "_view_name": "LayoutView",
      "align_content": null,
      "align_items": null,
      "align_self": null,
      "border": null,
      "bottom": null,
      "display": null,
      "flex": null,
      "flex_flow": null,
      "grid_area": null,
      "grid_auto_columns": null,
      "grid_auto_flow": null,
      "grid_auto_rows": null,
      "grid_column": null,
      "grid_gap": null,
      "grid_row": null,
      "grid_template_areas": null,
      "grid_template_columns": null,
      "grid_template_rows": null,
      "height": null,
      "justify_content": null,
      "justify_items": null,
      "left": null,
      "margin": null,
      "max_height": null,
      "max_width": null,
      "min_height": null,
      "min_width": null,
      "object_fit": null,
      "object_position": null,
      "order": null,
      "overflow": null,
      "overflow_x": null,
      "overflow_y": null,
      "padding": null,
      "right": null,
      "top": null,
      "visibility": null,
      "width": null
     }
    },
    "5c14176e67c04b2baa995be3c14521c3": {
     "model_module": "@jupyter-widgets/base",
     "model_module_version": "1.2.0",
     "model_name": "LayoutModel",
     "state": {
      "_model_module": "@jupyter-widgets/base",
      "_model_module_version": "1.2.0",
      "_model_name": "LayoutModel",
      "_view_count": null,
      "_view_module": "@jupyter-widgets/base",
      "_view_module_version": "1.2.0",
      "_view_name": "LayoutView",
      "align_content": null,
      "align_items": null,
      "align_self": null,
      "border": null,
      "bottom": null,
      "display": null,
      "flex": null,
      "flex_flow": null,
      "grid_area": null,
      "grid_auto_columns": null,
      "grid_auto_flow": null,
      "grid_auto_rows": null,
      "grid_column": null,
      "grid_gap": null,
      "grid_row": null,
      "grid_template_areas": null,
      "grid_template_columns": null,
      "grid_template_rows": null,
      "height": null,
      "justify_content": null,
      "justify_items": null,
      "left": null,
      "margin": null,
      "max_height": null,
      "max_width": null,
      "min_height": null,
      "min_width": null,
      "object_fit": null,
      "object_position": null,
      "order": null,
      "overflow": null,
      "overflow_x": null,
      "overflow_y": null,
      "padding": null,
      "right": null,
      "top": null,
      "visibility": null,
      "width": null
     }
    },
    "6a080618dffa468cab865511f5ca2ce5": {
     "model_module": "@jupyter-widgets/controls",
     "model_module_version": "1.5.0",
     "model_name": "DescriptionStyleModel",
     "state": {
      "_model_module": "@jupyter-widgets/controls",
      "_model_module_version": "1.5.0",
      "_model_name": "DescriptionStyleModel",
      "_view_count": null,
      "_view_module": "@jupyter-widgets/base",
      "_view_module_version": "1.2.0",
      "_view_name": "StyleView",
      "description_width": ""
     }
    },
    "6aa2c4762e75427189e36d61692ddc9f": {
     "model_module": "@jupyter-widgets/controls",
     "model_module_version": "1.5.0",
     "model_name": "HBoxModel",
     "state": {
      "_dom_classes": [],
      "_model_module": "@jupyter-widgets/controls",
      "_model_module_version": "1.5.0",
      "_model_name": "HBoxModel",
      "_view_count": null,
      "_view_module": "@jupyter-widgets/controls",
      "_view_module_version": "1.5.0",
      "_view_name": "HBoxView",
      "box_style": "",
      "children": [
       "IPY_MODEL_751bbc668d70470682394ff5b96acf34",
       "IPY_MODEL_51817f9314b14e68aa5f188ccd44d865",
       "IPY_MODEL_6bec5ab1963a4f559f3d754087f7ea7b"
      ],
      "layout": "IPY_MODEL_7785a7f076e84e41a3066a66f267b7ce"
     }
    },
    "6bec5ab1963a4f559f3d754087f7ea7b": {
     "model_module": "@jupyter-widgets/controls",
     "model_module_version": "1.5.0",
     "model_name": "HTMLModel",
     "state": {
      "_dom_classes": [],
      "_model_module": "@jupyter-widgets/controls",
      "_model_module_version": "1.5.0",
      "_model_name": "HTMLModel",
      "_view_count": null,
      "_view_module": "@jupyter-widgets/controls",
      "_view_module_version": "1.5.0",
      "_view_name": "HTMLView",
      "description": "",
      "description_tooltip": null,
      "layout": "IPY_MODEL_5560963d098a4c5dbbb530b35fa68bed",
      "placeholder": "​",
      "style": "IPY_MODEL_331849d0eeaf4c06a4232b62ecac12e7",
      "value": " 3/3 [01:52&lt;00:00, 49.34s/files]"
     }
    },
    "6e39db8f5f4d4a29b7c492310d367094": {
     "model_module": "@jupyter-widgets/controls",
     "model_module_version": "1.5.0",
     "model_name": "ProgressStyleModel",
     "state": {
      "_model_module": "@jupyter-widgets/controls",
      "_model_module_version": "1.5.0",
      "_model_name": "ProgressStyleModel",
      "_view_count": null,
      "_view_module": "@jupyter-widgets/base",
      "_view_module_version": "1.2.0",
      "_view_name": "StyleView",
      "bar_color": null,
      "description_width": ""
     }
    },
    "6ffa29da603a41388ba7030597369060": {
     "model_module": "@jupyter-widgets/controls",
     "model_module_version": "1.5.0",
     "model_name": "HTMLModel",
     "state": {
      "_dom_classes": [],
      "_model_module": "@jupyter-widgets/controls",
      "_model_module_version": "1.5.0",
      "_model_name": "HTMLModel",
      "_view_count": null,
      "_view_module": "@jupyter-widgets/controls",
      "_view_module_version": "1.5.0",
      "_view_name": "HTMLView",
      "description": "",
      "description_tooltip": null,
      "layout": "IPY_MODEL_5c14176e67c04b2baa995be3c14521c3",
      "placeholder": "​",
      "style": "IPY_MODEL_6a080618dffa468cab865511f5ca2ce5",
      "value": ""
     }
    },
    "751bbc668d70470682394ff5b96acf34": {
     "model_module": "@jupyter-widgets/controls",
     "model_module_version": "1.5.0",
     "model_name": "HTMLModel",
     "state": {
      "_dom_classes": [],
      "_model_module": "@jupyter-widgets/controls",
      "_model_module_version": "1.5.0",
      "_model_name": "HTMLModel",
      "_view_count": null,
      "_view_module": "@jupyter-widgets/controls",
      "_view_module_version": "1.5.0",
      "_view_name": "HTMLView",
      "description": "",
      "description_tooltip": null,
      "layout": "IPY_MODEL_7c9c04d61d9140aa97557c3455a453c5",
      "placeholder": "​",
      "style": "IPY_MODEL_7ae77e0b73c8416db70e1c876349edf4",
      "value": "Extracting: 100%"
     }
    },
    "7785a7f076e84e41a3066a66f267b7ce": {
     "model_module": "@jupyter-widgets/base",
     "model_module_version": "1.2.0",
     "model_name": "LayoutModel",
     "state": {
      "_model_module": "@jupyter-widgets/base",
      "_model_module_version": "1.2.0",
      "_model_name": "LayoutModel",
      "_view_count": null,
      "_view_module": "@jupyter-widgets/base",
      "_view_module_version": "1.2.0",
      "_view_name": "LayoutView",
      "align_content": null,
      "align_items": null,
      "align_self": null,
      "border": null,
      "bottom": null,
      "display": null,
      "flex": null,
      "flex_flow": null,
      "grid_area": null,
      "grid_auto_columns": null,
      "grid_auto_flow": null,
      "grid_auto_rows": null,
      "grid_column": null,
      "grid_gap": null,
      "grid_row": null,
      "grid_template_areas": null,
      "grid_template_columns": null,
      "grid_template_rows": null,
      "height": null,
      "justify_content": null,
      "justify_items": null,
      "left": null,
      "margin": null,
      "max_height": null,
      "max_width": null,
      "min_height": null,
      "min_width": null,
      "object_fit": null,
      "object_position": null,
      "order": null,
      "overflow": null,
      "overflow_x": null,
      "overflow_y": null,
      "padding": null,
      "right": null,
      "top": null,
      "visibility": null,
      "width": null
     }
    },
    "7ae77e0b73c8416db70e1c876349edf4": {
     "model_module": "@jupyter-widgets/controls",
     "model_module_version": "1.5.0",
     "model_name": "DescriptionStyleModel",
     "state": {
      "_model_module": "@jupyter-widgets/controls",
      "_model_module_version": "1.5.0",
      "_model_name": "DescriptionStyleModel",
      "_view_count": null,
      "_view_module": "@jupyter-widgets/base",
      "_view_module_version": "1.2.0",
      "_view_name": "StyleView",
      "description_width": ""
     }
    },
    "7c9c04d61d9140aa97557c3455a453c5": {
     "model_module": "@jupyter-widgets/base",
     "model_module_version": "1.2.0",
     "model_name": "LayoutModel",
     "state": {
      "_model_module": "@jupyter-widgets/base",
      "_model_module_version": "1.2.0",
      "_model_name": "LayoutModel",
      "_view_count": null,
      "_view_module": "@jupyter-widgets/base",
      "_view_module_version": "1.2.0",
      "_view_name": "LayoutView",
      "align_content": null,
      "align_items": null,
      "align_self": null,
      "border": null,
      "bottom": null,
      "display": null,
      "flex": null,
      "flex_flow": null,
      "grid_area": null,
      "grid_auto_columns": null,
      "grid_auto_flow": null,
      "grid_auto_rows": null,
      "grid_column": null,
      "grid_gap": null,
      "grid_row": null,
      "grid_template_areas": null,
      "grid_template_columns": null,
      "grid_template_rows": null,
      "height": null,
      "justify_content": null,
      "justify_items": null,
      "left": null,
      "margin": null,
      "max_height": null,
      "max_width": null,
      "min_height": null,
      "min_width": null,
      "object_fit": null,
      "object_position": null,
      "order": null,
      "overflow": null,
      "overflow_x": null,
      "overflow_y": null,
      "padding": null,
      "right": null,
      "top": null,
      "visibility": null,
      "width": null
     }
    },
    "a54f307c9b164f3e8b12327d13939352": {
     "model_module": "@jupyter-widgets/controls",
     "model_module_version": "1.5.0",
     "model_name": "HTMLModel",
     "state": {
      "_dom_classes": [],
      "_model_module": "@jupyter-widgets/controls",
      "_model_module_version": "1.5.0",
      "_model_name": "HTMLModel",
      "_view_count": null,
      "_view_module": "@jupyter-widgets/controls",
      "_view_module_version": "1.5.0",
      "_view_name": "HTMLView",
      "description": "",
      "description_tooltip": null,
      "layout": "IPY_MODEL_314c4f094334474999f6988f47475b62",
      "placeholder": "​",
      "style": "IPY_MODEL_abd961bec6d24af4b3c166a81448487c",
      "value": " 573/? [12:46&lt;00:00,  1.04it/s]"
     }
    },
    "abd961bec6d24af4b3c166a81448487c": {
     "model_module": "@jupyter-widgets/controls",
     "model_module_version": "1.5.0",
     "model_name": "DescriptionStyleModel",
     "state": {
      "_model_module": "@jupyter-widgets/controls",
      "_model_module_version": "1.5.0",
      "_model_name": "DescriptionStyleModel",
      "_view_count": null,
      "_view_module": "@jupyter-widgets/base",
      "_view_module_version": "1.2.0",
      "_view_name": "StyleView",
      "description_width": ""
     }
    },
    "ba77659455bb4a6c879b2816d90f560e": {
     "model_module": "@jupyter-widgets/controls",
     "model_module_version": "1.5.0",
     "model_name": "HBoxModel",
     "state": {
      "_dom_classes": [],
      "_model_module": "@jupyter-widgets/controls",
      "_model_module_version": "1.5.0",
      "_model_name": "HBoxModel",
      "_view_count": null,
      "_view_module": "@jupyter-widgets/controls",
      "_view_module_version": "1.5.0",
      "_view_name": "HBoxView",
      "box_style": "",
      "children": [
       "IPY_MODEL_6ffa29da603a41388ba7030597369060",
       "IPY_MODEL_2f0e06e915404ec2a7e6e6dac5d65d42",
       "IPY_MODEL_a54f307c9b164f3e8b12327d13939352"
      ],
      "layout": "IPY_MODEL_e749c8e1877e4cbf9251025eede8b3ee"
     }
    },
    "e45e3bc207794fffb028bce81273dab8": {
     "model_module": "@jupyter-widgets/base",
     "model_module_version": "1.2.0",
     "model_name": "LayoutModel",
     "state": {
      "_model_module": "@jupyter-widgets/base",
      "_model_module_version": "1.2.0",
      "_model_name": "LayoutModel",
      "_view_count": null,
      "_view_module": "@jupyter-widgets/base",
      "_view_module_version": "1.2.0",
      "_view_name": "LayoutView",
      "align_content": null,
      "align_items": null,
      "align_self": null,
      "border": null,
      "bottom": null,
      "display": null,
      "flex": null,
      "flex_flow": null,
      "grid_area": null,
      "grid_auto_columns": null,
      "grid_auto_flow": null,
      "grid_auto_rows": null,
      "grid_column": null,
      "grid_gap": null,
      "grid_row": null,
      "grid_template_areas": null,
      "grid_template_columns": null,
      "grid_template_rows": null,
      "height": null,
      "justify_content": null,
      "justify_items": null,
      "left": null,
      "margin": null,
      "max_height": null,
      "max_width": null,
      "min_height": null,
      "min_width": null,
      "object_fit": null,
      "object_position": null,
      "order": null,
      "overflow": null,
      "overflow_x": null,
      "overflow_y": null,
      "padding": null,
      "right": null,
      "top": null,
      "visibility": null,
      "width": "20px"
     }
    },
    "e749c8e1877e4cbf9251025eede8b3ee": {
     "model_module": "@jupyter-widgets/base",
     "model_module_version": "1.2.0",
     "model_name": "LayoutModel",
     "state": {
      "_model_module": "@jupyter-widgets/base",
      "_model_module_version": "1.2.0",
      "_model_name": "LayoutModel",
      "_view_count": null,
      "_view_module": "@jupyter-widgets/base",
      "_view_module_version": "1.2.0",
      "_view_name": "LayoutView",
      "align_content": null,
      "align_items": null,
      "align_self": null,
      "border": null,
      "bottom": null,
      "display": null,
      "flex": null,
      "flex_flow": null,
      "grid_area": null,
      "grid_auto_columns": null,
      "grid_auto_flow": null,
      "grid_auto_rows": null,
      "grid_column": null,
      "grid_gap": null,
      "grid_row": null,
      "grid_template_areas": null,
      "grid_template_columns": null,
      "grid_template_rows": null,
      "height": null,
      "justify_content": null,
      "justify_items": null,
      "left": null,
      "margin": null,
      "max_height": null,
      "max_width": null,
      "min_height": null,
      "min_width": null,
      "object_fit": null,
      "object_position": null,
      "order": null,
      "overflow": null,
      "overflow_x": null,
      "overflow_y": null,
      "padding": null,
      "right": null,
      "top": null,
      "visibility": null,
      "width": null
     }
    }
   }
  }
 },
 "nbformat": 4,
 "nbformat_minor": 4
}
